{
 "cells": [
  {
   "cell_type": "code",
   "execution_count": 1,
   "id": "f5fad7c2-3302-473a-b036-a0997d430b80",
   "metadata": {},
   "outputs": [],
   "source": [
    "import pandas as pd\n",
    "import io\n",
    "import re\n",
    "from collections import Counter\n",
    "\n",
    "csv_data=\"D:/Kaggle/MDC/train_labels.csv\"\n",
    "\n",
    "df = pd.read_csv(csv_data)\n",
    "cleaned_df = df[df['type'] != 'Missing']\n",
    "# print(cleaned_df.to_string(index=False))"
   ]
  },
  {
   "cell_type": "code",
   "execution_count": 2,
   "id": "dff15acf-de5c-47c5-abd9-7b8a0c83337a",
   "metadata": {
    "scrolled": true
   },
   "outputs": [
    {
     "name": "stdout",
     "output_type": "stream",
     "text": [
      "79.62962962962963 \n",
      " 75.50111358574611\n"
     ]
    }
   ],
   "source": [
    "# cleaned_df.loc[cleaned_df['type'] == 'Primary', 'Primary'] = 1\n",
    "# cleaned_df.loc[cleaned_df['type'] == 'Secondary', 'Secondary'] = 1\n",
    "# cleaned_df\n",
    "is_primary = cleaned_df['type'] == 'Primary'\n",
    "is_link = cleaned_df['dataset_id'].str.startswith('https://')\n",
    "is_secondary = cleaned_df['type'] == 'Secondary'\n",
    "is_not_link = ~cleaned_df['dataset_id'].str.startswith('https://')\n",
    "link_primary = len(cleaned_df[is_primary & is_link])\n",
    "notlink_secondary = len(cleaned_df[is_secondary & is_not_link])\n",
    "primary_count = (df['type'] == 'Primary').sum()\n",
    "secondary_count = (df['type'] == 'Secondary').sum()\n",
    "print(link_primary/primary_count*100, \"\\n\", notlink_secondary/secondary_count*100)"
   ]
  },
  {
   "cell_type": "code",
   "execution_count": 3,
   "id": "b323d5be-bd62-4f41-b7ee-7134a1fb0273",
   "metadata": {},
   "outputs": [
    {
     "name": "stderr",
     "output_type": "stream",
     "text": [
      "C:\\Users\\HP\\AppData\\Local\\Temp\\ipykernel_9364\\76039499.py:1: SettingWithCopyWarning: \n",
      "A value is trying to be set on a copy of a slice from a DataFrame.\n",
      "Try using .loc[row_indexer,col_indexer] = value instead\n",
      "\n",
      "See the caveats in the documentation: https://pandas.pydata.org/pandas-docs/stable/user_guide/indexing.html#returning-a-view-versus-a-copy\n",
      "  cleaned_df.loc[cleaned_df['type'] == 'Primary', 'Primary'] = 1\n",
      "C:\\Users\\HP\\AppData\\Local\\Temp\\ipykernel_9364\\76039499.py:2: SettingWithCopyWarning: \n",
      "A value is trying to be set on a copy of a slice from a DataFrame.\n",
      "Try using .loc[row_indexer,col_indexer] = value instead\n",
      "\n",
      "See the caveats in the documentation: https://pandas.pydata.org/pandas-docs/stable/user_guide/indexing.html#returning-a-view-versus-a-copy\n",
      "  cleaned_df.loc[cleaned_df['type'] == 'Secondary', 'Secondary'] = 1\n"
     ]
    },
    {
     "data": {
      "text/plain": [
       "719"
      ]
     },
     "execution_count": 3,
     "metadata": {},
     "output_type": "execute_result"
    }
   ],
   "source": [
    "cleaned_df.loc[cleaned_df['type'] == 'Primary', 'Primary'] = 1\n",
    "cleaned_df.loc[cleaned_df['type'] == 'Secondary', 'Secondary'] = 1\n",
    "cleaned_df\n",
    "len(cleaned_df['Primary'] == '1')\n",
    "# is_primary = cleaned_df['type'] == 'Primary'\n",
    "# is_doi_link = cleaned_df['dataset_id'].str.startswith('https://doi.org/')"
   ]
  },
  {
   "cell_type": "code",
   "execution_count": 4,
   "id": "b334298a-a970-4fe2-987a-287b66711179",
   "metadata": {},
   "outputs": [],
   "source": [
    "link_df= df['dataset_id'].str.startswith('https://')\n",
    "no_link_df=df[~link_df]\n",
    "no_link_df.head()\n",
    "no_link_df.to_csv('train_label_no_link.csv', index=False)"
   ]
  },
  {
   "cell_type": "code",
   "execution_count": 8,
   "id": "a61aef33-c430-4498-a74b-d2eda136f210",
   "metadata": {
    "scrolled": true
   },
   "outputs": [
    {
     "name": "stdout",
     "output_type": "stream",
     "text": [
      "All keywords found in the dataset_id column and their frequencies:\n",
      "Keyword  Frequency\n",
      "    epi         64\n",
      "   samn         41\n",
      "    isl         35\n",
      "    ipr         33\n",
      " chembl         29\n",
      "  prjna         26\n",
      "e-geod-         25\n",
      "     pf         21\n",
      "      k         21\n",
      "   cvcl         16\n",
      "empiar-         12\n",
      "e-prot-         12\n",
      "    pxd         10\n",
      "ensmmut          9\n",
      "    hpa          9\n",
      "      p          8\n",
      "ensbtag          6\n",
      "ensoarg          6\n",
      "      q          4\n",
      "    srr          4\n",
      "    gse          3\n",
      "     cp          3\n",
      "   hgnc          3\n",
      "    cab          2\n",
      "      d          2\n",
      "     kx          2\n",
      "     va          1\n",
      "    srp          1\n",
      "     nm          1\n",
      "     bx          1\n",
      "    sth          1\n",
      "      f          1\n",
      "    rvj          1\n",
      "     rs          1\n",
      "      o          1\n",
      "     ag          1\n",
      "     ks          1\n",
      "    srx          1\n",
      "     ku          1\n",
      "    nrj          1\n",
      "    nmq          1\n",
      "     nc          1\n",
      "    err          1\n",
      "  model          1\n"
     ]
    }
   ],
   "source": [
    "# Read the file as a CSV\n",
    "# Ensure 'train_label_no_link.xls' is in the same directory or provide the full path\n",
    "all_keywords = []\n",
    "\n",
    "# Extract alphabetical parts from the 'dataset_id' column\n",
    "for item in no_link_df['dataset_id']:\n",
    "    # Find all sequences of letters (case-insensitive)\n",
    "    words = re.findall(r'[a-zA-Z-]+', str(item).lower())\n",
    "    all_keywords.extend(words)\n",
    "\n",
    "# Count the frequency of each keyword\n",
    "keyword_counts = Counter(all_keywords)\n",
    "\n",
    "# --- Display All Results ---\n",
    "print(\"All keywords found in the dataset_id column and their frequencies:\")\n",
    "# Get all items from the counter, sorted by frequency\n",
    "all_found_keywords = keyword_counts.most_common()\n",
    "    \n",
    "# Create a DataFrame for a clean display\n",
    "keywords_df = pd.DataFrame(all_found_keywords, columns=['Keyword', 'Frequency'])\n",
    "    \n",
    "# Use to_string() to ensure all rows are printed\n",
    "print(keywords_df.to_string(index=False))"
   ]
  }
 ],
 "metadata": {
  "kernelspec": {
   "display_name": "Python 3 (ipykernel)",
   "language": "python",
   "name": "python3"
  },
  "language_info": {
   "codemirror_mode": {
    "name": "ipython",
    "version": 3
   },
   "file_extension": ".py",
   "mimetype": "text/x-python",
   "name": "python",
   "nbconvert_exporter": "python",
   "pygments_lexer": "ipython3",
   "version": "3.13.5"
  }
 },
 "nbformat": 4,
 "nbformat_minor": 5
}
